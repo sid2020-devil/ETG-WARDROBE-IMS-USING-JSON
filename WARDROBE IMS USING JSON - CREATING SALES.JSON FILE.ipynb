{
 "cells": [
  {
   "cell_type": "markdown",
   "id": "a8aceea0",
   "metadata": {},
   "source": [
    "### Reading the json file"
   ]
  },
  {
   "cell_type": "code",
   "execution_count": 1,
   "id": "e84ca6b5",
   "metadata": {},
   "outputs": [],
   "source": [
    "fd = open(\"record.json\",\"r\")\n",
    "txt = fd.read()\n",
    "fd.close()"
   ]
  },
  {
   "cell_type": "markdown",
   "id": "a3d69497",
   "metadata": {},
   "source": [
    "### Printing the text file of the record "
   ]
  },
  {
   "cell_type": "code",
   "execution_count": 2,
   "id": "f4a29070",
   "metadata": {},
   "outputs": [
    {
     "data": {
      "text/plain": [
       "'{\"11602260\": {\"Name\": \"LOUIS VUITTON\", \"Mft. Date\": \"23-01-2021\", \"Qty\": 10000, \"Price\": 260, \"Discount\": 80}, \"11602261\": {\"Name\": \"GUCCI\", \"Mft. Date\": \"25-01-2021\", \"Qty\": 9500, \"Price\": 240, \"Discount\": 45}, \"11602262\": {\"Name\": \"VERSACE\", \"Mft. Date\": \"27-01-2021\", \"Qty\": 9000, \"Price\": 230, \"Discount\": 40}, \"11602263\": {\"Name\": \"PRADA\", \"Mft. Date\": \"29-01-2021\", \"Qty\": 8500, \"Price\": 220, \"Discount\": 35}, \"11602264\": {\"Name\": \"GIVENCHI\", \"Mft. Date\": \"31-01-2021\", \"Qty\": 8000, \"Price\": 210, \"Discount\": 30}, \"11602265\": {\"Name\": \"ARMANI\", \"Mft. Date\": \"03-02-2021\", \"Qty\": 7500, \"Price\": 200, \"Discount\": 25}, \"11602266\": {\"Name\": \"FENDI\", \"Mft. Date\": \"05-02-2021\", \"Qty\": 7000, \"Price\": 190, \"Discount\": 20}, \"11602267\": {\"Name\": \"CHANEL\", \"Mft. Date\": \"07-02-2021\", \"Qty\": 6500, \"Price\": 180, \"Discount\": 15}, \"11602268\": {\"Name\": \"RALPH LAUREN\", \"Mft. Date\": \"09-02-2021\", \"Qty\": 6000, \"Price\": 170, \"Discount\": 10}, \"11602269\": {\"Name\": \"HUGO BOSS\", \"Mft. Date\": \"11-02-2021\", \"Qty\": 5500, \"Price\": 160, \"Discount\": 50}, \"11602270\": {\"Name\": \"HERMES\", \"Mft. Date\": \"13-02-2021\", \"Qty\": 5000, \"Price\": 160, \"Discount\": 45}, \"11602271\": {\"Name\": \"YVES SAINT LAURENT\", \"Mft. Date\": \"15-02-2021\", \"Qty\": 4500, \"Price\": 160, \"Discount\": 40}, \"11602272\": {\"Name\": \"DIOR\", \"Mft. Date\": \"17-02-2021\", \"Qty\": 4000, \"Price\": 150, \"Discount\": 35}, \"11602273\": {\"Name\": \"VALENTINO\", \"Mft. Date\": \"19-02-2021\", \"Qty\": 3500, \"Price\": 140, \"Discount\": 30}, \"11602274\": {\"Name\": \"SALVATORE FERRAGAMO\", \"Mft. Date\": \"21-02-2021\", \"Qty\": 3000, \"Price\": 130, \"Discount\": 25}, \"11602275\": {\"Name\": \"DOLCE & GABBANA\", \"Mft. Date\": \"23-02-2021\", \"Qty\": 2500, \"Price\": 120, \"Discount\": 20}, \"11602276\": {\"Name\": \"MARC JACOBS\", \"Mft. Date\": \"25-02-2021\", \"Qty\": 2000, \"Price\": 110, \"Discount\": 15}, \"11602277\": {\"Name\": \"GUESS\", \"Mft. Date\": \"27-02-2021\", \"Qty\": 1500, \"Price\": 100, \"Discount\": 10}, \"11602278\": {\"Name\": \"ABERCROMBIE & FITCH\", \"Mft. Date\": \"29-02-2021\", \"Qty\": 1000, \"Price\": 90, \"Discount\": 50}, \"11602279\": {\"Name\": \"TED BAKER\", \"Mft. Date\": \"31-02-2021\", \"Qty\": 900, \"Price\": 80, \"Discount\": 45}, \"11602280\": {\"Name\": \"CHRISTIAN LOUBOUTIN\", \"Mft. Date\": \"3-03-2021\", \"Qty\": 800, \"Price\": 70, \"Discount\": 40}, \"11602281\": {\"Name\": \"CHLOE\", \"Mft. Date\": \"05-03-2021\", \"Qty\": 700, \"Price\": 60, \"Discount\": 35}, \"11602282\": {\"Name\": \"ALEXANDER MCQUEEN\", \"Mft. Date\": \"07-03-2021\", \"Qty\": 600, \"Price\": 50, \"Discount\": 30}, \"11602283\": {\"Name\": \"BURBERRY\", \"Mft. Date\": \"09-03-2021\", \"Qty\": 500, \"Price\": 40, \"Discount\": 25}, \"11602284\": {\"Name\": \"COACH\", \"Mft. Date\": \"11-03-2021\", \"Qty\": 400, \"Price\": 30, \"Discount\": 20}, \"11602285\": {\"Name\": \"COBB\", \"Mft. Date\": \"13-03-2021\", \"Qty\": 300, \"Price\": 20, \"Discount\": 15}, \"11602286\": {\"Name\": \"LOUIS PHILLIPE\", \"Mft. Date\": \"15-03-2021\", \"Qty\": 200, \"Price\": 18, \"Discount\": 10}, \"11602287\": {\"Name\": \"ALLEN SOLLY\", \"Mft. Date\": \"17-03-2021\", \"Qty\": 190, \"Price\": 16, \"Discount\": 50}, \"11602288\": {\"Name\": \"NIKE\", \"Mft. Date\": \"19-03-2021\", \"Qty\": 180, \"Price\": 15, \"Discount\": 45}, \"11602289\": {\"Name\": \"ADIDAS\", \"Mft. Date\": \"21-03-2021\", \"Qty\": 100, \"Price\": 10, \"Discount\": 40}, \"11602290\": {\"Name\": \"LEVIS\", \"Mft. Date\": \"23-03-2021\", \"Qty\": 90, \"Price\": 280, \"Discount\": 35}, \"11602291\": {\"Name\": \"ZARA\", \"Mft. Date\": \"25-03-2021\", \"Qty\": 80, \"Price\": 270, \"Discount\": 30}}'"
      ]
     },
     "execution_count": 2,
     "metadata": {},
     "output_type": "execute_result"
    }
   ],
   "source": [
    "txt"
   ]
  },
  {
   "cell_type": "markdown",
   "id": "fbc94e52",
   "metadata": {},
   "source": [
    "### Importing json and converting to a dictionary "
   ]
  },
  {
   "cell_type": "code",
   "execution_count": 3,
   "id": "5f4e3db6",
   "metadata": {},
   "outputs": [
    {
     "data": {
      "text/plain": [
       "{'11602260': {'Name': 'LOUIS VUITTON',\n",
       "  'Mft. Date': '23-01-2021',\n",
       "  'Qty': 10000,\n",
       "  'Price': 260,\n",
       "  'Discount': 80},\n",
       " '11602261': {'Name': 'GUCCI',\n",
       "  'Mft. Date': '25-01-2021',\n",
       "  'Qty': 9500,\n",
       "  'Price': 240,\n",
       "  'Discount': 45},\n",
       " '11602262': {'Name': 'VERSACE',\n",
       "  'Mft. Date': '27-01-2021',\n",
       "  'Qty': 9000,\n",
       "  'Price': 230,\n",
       "  'Discount': 40},\n",
       " '11602263': {'Name': 'PRADA',\n",
       "  'Mft. Date': '29-01-2021',\n",
       "  'Qty': 8500,\n",
       "  'Price': 220,\n",
       "  'Discount': 35},\n",
       " '11602264': {'Name': 'GIVENCHI',\n",
       "  'Mft. Date': '31-01-2021',\n",
       "  'Qty': 8000,\n",
       "  'Price': 210,\n",
       "  'Discount': 30},\n",
       " '11602265': {'Name': 'ARMANI',\n",
       "  'Mft. Date': '03-02-2021',\n",
       "  'Qty': 7500,\n",
       "  'Price': 200,\n",
       "  'Discount': 25},\n",
       " '11602266': {'Name': 'FENDI',\n",
       "  'Mft. Date': '05-02-2021',\n",
       "  'Qty': 7000,\n",
       "  'Price': 190,\n",
       "  'Discount': 20},\n",
       " '11602267': {'Name': 'CHANEL',\n",
       "  'Mft. Date': '07-02-2021',\n",
       "  'Qty': 6500,\n",
       "  'Price': 180,\n",
       "  'Discount': 15},\n",
       " '11602268': {'Name': 'RALPH LAUREN',\n",
       "  'Mft. Date': '09-02-2021',\n",
       "  'Qty': 6000,\n",
       "  'Price': 170,\n",
       "  'Discount': 10},\n",
       " '11602269': {'Name': 'HUGO BOSS',\n",
       "  'Mft. Date': '11-02-2021',\n",
       "  'Qty': 5500,\n",
       "  'Price': 160,\n",
       "  'Discount': 50},\n",
       " '11602270': {'Name': 'HERMES',\n",
       "  'Mft. Date': '13-02-2021',\n",
       "  'Qty': 5000,\n",
       "  'Price': 160,\n",
       "  'Discount': 45},\n",
       " '11602271': {'Name': 'YVES SAINT LAURENT',\n",
       "  'Mft. Date': '15-02-2021',\n",
       "  'Qty': 4500,\n",
       "  'Price': 160,\n",
       "  'Discount': 40},\n",
       " '11602272': {'Name': 'DIOR',\n",
       "  'Mft. Date': '17-02-2021',\n",
       "  'Qty': 4000,\n",
       "  'Price': 150,\n",
       "  'Discount': 35},\n",
       " '11602273': {'Name': 'VALENTINO',\n",
       "  'Mft. Date': '19-02-2021',\n",
       "  'Qty': 3500,\n",
       "  'Price': 140,\n",
       "  'Discount': 30},\n",
       " '11602274': {'Name': 'SALVATORE FERRAGAMO',\n",
       "  'Mft. Date': '21-02-2021',\n",
       "  'Qty': 3000,\n",
       "  'Price': 130,\n",
       "  'Discount': 25},\n",
       " '11602275': {'Name': 'DOLCE & GABBANA',\n",
       "  'Mft. Date': '23-02-2021',\n",
       "  'Qty': 2500,\n",
       "  'Price': 120,\n",
       "  'Discount': 20},\n",
       " '11602276': {'Name': 'MARC JACOBS',\n",
       "  'Mft. Date': '25-02-2021',\n",
       "  'Qty': 2000,\n",
       "  'Price': 110,\n",
       "  'Discount': 15},\n",
       " '11602277': {'Name': 'GUESS',\n",
       "  'Mft. Date': '27-02-2021',\n",
       "  'Qty': 1500,\n",
       "  'Price': 100,\n",
       "  'Discount': 10},\n",
       " '11602278': {'Name': 'ABERCROMBIE & FITCH',\n",
       "  'Mft. Date': '29-02-2021',\n",
       "  'Qty': 1000,\n",
       "  'Price': 90,\n",
       "  'Discount': 50},\n",
       " '11602279': {'Name': 'TED BAKER',\n",
       "  'Mft. Date': '31-02-2021',\n",
       "  'Qty': 900,\n",
       "  'Price': 80,\n",
       "  'Discount': 45},\n",
       " '11602280': {'Name': 'CHRISTIAN LOUBOUTIN',\n",
       "  'Mft. Date': '3-03-2021',\n",
       "  'Qty': 800,\n",
       "  'Price': 70,\n",
       "  'Discount': 40},\n",
       " '11602281': {'Name': 'CHLOE',\n",
       "  'Mft. Date': '05-03-2021',\n",
       "  'Qty': 700,\n",
       "  'Price': 60,\n",
       "  'Discount': 35},\n",
       " '11602282': {'Name': 'ALEXANDER MCQUEEN',\n",
       "  'Mft. Date': '07-03-2021',\n",
       "  'Qty': 600,\n",
       "  'Price': 50,\n",
       "  'Discount': 30},\n",
       " '11602283': {'Name': 'BURBERRY',\n",
       "  'Mft. Date': '09-03-2021',\n",
       "  'Qty': 500,\n",
       "  'Price': 40,\n",
       "  'Discount': 25},\n",
       " '11602284': {'Name': 'COACH',\n",
       "  'Mft. Date': '11-03-2021',\n",
       "  'Qty': 400,\n",
       "  'Price': 30,\n",
       "  'Discount': 20},\n",
       " '11602285': {'Name': 'COBB',\n",
       "  'Mft. Date': '13-03-2021',\n",
       "  'Qty': 300,\n",
       "  'Price': 20,\n",
       "  'Discount': 15},\n",
       " '11602286': {'Name': 'LOUIS PHILLIPE',\n",
       "  'Mft. Date': '15-03-2021',\n",
       "  'Qty': 200,\n",
       "  'Price': 18,\n",
       "  'Discount': 10},\n",
       " '11602287': {'Name': 'ALLEN SOLLY',\n",
       "  'Mft. Date': '17-03-2021',\n",
       "  'Qty': 190,\n",
       "  'Price': 16,\n",
       "  'Discount': 50},\n",
       " '11602288': {'Name': 'NIKE',\n",
       "  'Mft. Date': '19-03-2021',\n",
       "  'Qty': 180,\n",
       "  'Price': 15,\n",
       "  'Discount': 45},\n",
       " '11602289': {'Name': 'ADIDAS',\n",
       "  'Mft. Date': '21-03-2021',\n",
       "  'Qty': 100,\n",
       "  'Price': 10,\n",
       "  'Discount': 40},\n",
       " '11602290': {'Name': 'LEVIS',\n",
       "  'Mft. Date': '23-03-2021',\n",
       "  'Qty': 90,\n",
       "  'Price': 280,\n",
       "  'Discount': 35},\n",
       " '11602291': {'Name': 'ZARA',\n",
       "  'Mft. Date': '25-03-2021',\n",
       "  'Qty': 80,\n",
       "  'Price': 270,\n",
       "  'Discount': 30}}"
      ]
     },
     "execution_count": 3,
     "metadata": {},
     "output_type": "execute_result"
    }
   ],
   "source": [
    "import json\n",
    "record = json.loads(txt)\n",
    "record"
   ]
  },
  {
   "cell_type": "markdown",
   "id": "d2e3c043",
   "metadata": {},
   "source": [
    "### Creating and giving values to the variable to be added to sales dictionary "
   ]
  },
  {
   "cell_type": "code",
   "execution_count": 19,
   "id": "38d7daff",
   "metadata": {},
   "outputs": [
    {
     "name": "stdout",
     "output_type": "stream",
     "text": [
      "Enter the name of the user : Kiran T Suresh\n",
      "Enter the id : 11602290\n",
      "Enter the quantity : 60\n"
     ]
    }
   ],
   "source": [
    "user_name = input(\"Enter the name of the user : \")\n",
    "prod_id = input(\"Enter the id : \")\n",
    "prod_qty = int(input(\"Enter the quantity : \"))\n",
    "if prod_id in record:\n",
    "    prod_name =  record[prod_id]['Name']\n",
    "    prod_price  = (record[prod_id]['Price']) * ((record[prod_id]['Discount'])/100) * prod_qty\n"
   ]
  },
  {
   "cell_type": "markdown",
   "id": "99966d13",
   "metadata": {},
   "source": [
    "### Assigning values to sales dictionary "
   ]
  },
  {
   "cell_type": "code",
   "execution_count": 20,
   "id": "247a1ac7",
   "metadata": {},
   "outputs": [],
   "source": [
    "sales = {}\n",
    "sales[\"User_Name\"] = user_name\n",
    "sales[\"Product_Name\"]=prod_name\n",
    "sales[\"Product_Id\"] = prod_id\n",
    "sales[\"Product_Qty\"] = prod_qty\n",
    "sales[\"Product_Amount\"] = int(prod_price)\n"
   ]
  },
  {
   "cell_type": "markdown",
   "id": "c18bb7e3",
   "metadata": {},
   "source": [
    "### Dumping of new records to sales "
   ]
  },
  {
   "cell_type": "code",
   "execution_count": 21,
   "id": "d6dd4549",
   "metadata": {},
   "outputs": [
    {
     "data": {
      "text/plain": [
       "'{\"User_Name\": \"Kiran T Suresh\", \"Product_Name\": \"LEVIS\", \"Product_Id\": \"11602290\", \"Product_Qty\": 60, \"Product_Amount\": 5880}'"
      ]
     },
     "execution_count": 21,
     "metadata": {},
     "output_type": "execute_result"
    }
   ],
   "source": [
    "js=json.dumps(sales)\n",
    "js\n"
   ]
  },
  {
   "cell_type": "markdown",
   "id": "51f24532",
   "metadata": {},
   "source": [
    "### Appending sales.json file "
   ]
  },
  {
   "cell_type": "code",
   "execution_count": 22,
   "id": "34688fc3",
   "metadata": {},
   "outputs": [],
   "source": [
    "fd=open(\"sales.json\",'a')\n",
    "fd.write(js)\n",
    "fd.close()\n"
   ]
  },
  {
   "cell_type": "markdown",
   "id": "808cdf18",
   "metadata": {},
   "source": [
    "### Reading sales.json file "
   ]
  },
  {
   "cell_type": "code",
   "execution_count": 23,
   "id": "5348d086",
   "metadata": {},
   "outputs": [
    {
     "name": "stdout",
     "output_type": "stream",
     "text": [
      "{\"User_Name\": \"Sidharth S Unnithan\", \"Product_Name\": \"LOUIS VUITTON\", \"Product_Id\": \"11602260\", \"Product_Qty\": 1000, \"Product_Amount\": 208000}{\"User_Name\": \"Sidharth P\", \"Product_Name\": \"GUCCI\", \"Product_Id\": \"11602261\", \"Product_Qty\": 800, \"Product_Amount\": 86400}{\"User_Name\": \"Kiran T Suresh\", \"Product_Name\": \"LEVIS\", \"Product_Id\": \"11602290\", \"Product_Qty\": 60, \"Product_Amount\": 5880}\n"
     ]
    }
   ],
   "source": [
    "fd=open(\"sales.json\",'r')\n",
    "text=fd.read()\n",
    "print(text)\n",
    "fd.close()\n"
   ]
  },
  {
   "cell_type": "code",
   "execution_count": null,
   "id": "f8a2aa8e",
   "metadata": {},
   "outputs": [],
   "source": []
  }
 ],
 "metadata": {
  "kernelspec": {
   "display_name": "Python 3",
   "language": "python",
   "name": "python3"
  },
  "language_info": {
   "codemirror_mode": {
    "name": "ipython",
    "version": 3
   },
   "file_extension": ".py",
   "mimetype": "text/x-python",
   "name": "python",
   "nbconvert_exporter": "python",
   "pygments_lexer": "ipython3",
   "version": "3.8.8"
  }
 },
 "nbformat": 4,
 "nbformat_minor": 5
}
