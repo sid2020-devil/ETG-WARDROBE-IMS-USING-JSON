{
 "cells": [
  {
   "cell_type": "markdown",
   "id": "4729197b",
   "metadata": {},
   "source": [
    "### Reading record.json file"
   ]
  },
  {
   "cell_type": "code",
   "execution_count": 2,
   "id": "c123ddb3",
   "metadata": {},
   "outputs": [],
   "source": [
    "fd = open(\"record.json\",'r')\n",
    "txt = fd.read()\n",
    "fd.close()"
   ]
  },
  {
   "cell_type": "markdown",
   "id": "65798e5b",
   "metadata": {},
   "source": [
    "### Printing the text file from record.json"
   ]
  },
  {
   "cell_type": "code",
   "execution_count": 3,
   "id": "4dd2dc73",
   "metadata": {},
   "outputs": [
    {
     "data": {
      "text/plain": [
       "'{ \"11602260\": {\"Name\": \"LOUIS VUITTON\", \"Mft. Date\": \"23-01-2021\",\"Qty\": 10000,\"Price\": 250,\"Discount\": 50}, \\n           \"11602261\": {\"Name\": \"GUCCI\", \"Mft. Date\": \"25-01-2021\",\"Qty\":9500,\"Price\": 240,\"Discount\": 45},\\n           \"11602262\": {\"Name\": \"VERSACE\", \"Mft. Date\": \"27-01-2021\",\"Qty\":9000,\"Price\": 230,\"Discount\": 40}, \\n           \"11602263\": {\"Name\": \"PRADA\", \"Mft. Date\": \"29-01-2021\",\"Qty\":8500,\"Price\": 220,\"Discount\": 35},\\n           \"11602264\": {\"Name\": \"GIVENCHI\", \"Mft. Date\": \"31-01-2021\",\"Qty\": 8000,\"Price\": 210,\"Discount\": 30},\\n           \"11602265\": {\"Name\": \"ARMANI\", \"Mft. Date\": \"03-02-2021\",\"Qty\":7500,\"Price\": 200,\"Discount\": 25},\\n           \"11602266\": {\"Name\": \"FENDI\", \"Mft. Date\": \"05-02-2021\", \"Qty\" : 7000,\"Price\": 190,\"Discount\": 20}, \\n           \"11602267\": {\"Name\": \"CHANEL\", \"Mft. Date\": \"07-02-2021\", \"Qty\":6500,\"Price\": 180,\"Discount\": 15},\\n           \"11602268\": {\"Name\": \"RALPH LAUREN\", \"Mft. Date\": \"09-02-2021\", \"Qty\" : 6000,\"Price\": 170,\"Discount\": 10}, \\n           \"11602269\": {\"Name\": \"HUGO BOSS\", \"Mft. Date\": \"11-02-2021\", \"Qty\":5500,\"Price\" : 160,\"Discount\": 50},\\n           \"11602270\": {\"Name\": \"HERMES\", \"Mft. Date\": \"13-02-2021\",  \"Qty\" : 5000,\"Price\" : 160,\"Discount\": 45}, \\n           \"11602271\": {\"Name\": \"YVES SAINT LAURENT\", \"Mft. Date\": \"15-02-2021\", \"Qty\":4500,\"Price\" : 160,\"Discount\": 40},\\n           \"11602272\": {\"Name\": \"DIOR\", \"Mft. Date\": \"17-02-2021\", \"Qty\" : 4000,\"Price\" : 150,\"Discount\": 35}, \\n           \"11602273\": {\"Name\": \"VALENTINO\", \"Mft. Date\": \"19-02-2021\", \"Qty\":3500,\"Price\" : 140,\"Discount\": 30},\\n           \"11602274\": {\"Name\": \"SALVATORE FERRAGAMO\", \"Mft. Date\": \"21-02-2021\", \"Qty\" : 3000,\"Price\" : 130,\"Discount\": 25}, \\n           \"11602275\": {\"Name\": \"DOLCE & GABBANA\", \"Mft. Date\": \"23-02-2021\", \"Qty\":2500,\"Price\" : 120,\"Discount\": 20},\\n           \"11602276\": {\"Name\": \"MARC JACOBS\", \"Mft. Date\": \"25-02-2021\",\"Qty\" : 2000,\"Price\" : 110,\"Discount\": 15}, \\n           \"11602277\": {\"Name\": \"GUESS\", \"Mft. Date\": \"27-02-2021\", \"Qty\":1500,\"Price\" : 100,\"Discount\": 10},\\n           \"11602278\": {\"Name\": \"ABERCROMBIE & FITCH\", \"Mft. Date\": \"29-02-2021\", \"Qty\" : 1000,\"Price\" : 90,\"Discount\": 50}, \\n           \"11602279\": {\"Name\": \"TED BAKER\", \"Mft. Date\": \"31-02-2021\", \"Qty\":900,\"Price\" : 80,\"Discount\": 45},\\n           \"11602280\": {\"Name\": \"CHRISTIAN LOUBOUTIN\", \"Mft. Date\": \"3-03-2021\", \"Qty\" : 800,\"Price\" : 70,\"Discount\": 40}, \\n           \"11602281\": {\"Name\": \"CHLOE\", \"Mft. Date\": \"05-03-2021\", \"Qty\":700,\"Price\" : 60,\"Discount\": 35},\\n           \"11602282\": {\"Name\": \"ALEXANDER MCQUEEN\", \"Mft. Date\": \"07-03-2021\", \"Qty\" : 600,\"Price\" : 50,\"Discount\": 30}, \\n           \"11602283\": {\"Name\": \"BURBERRY\", \"Mft. Date\": \"09-03-2021\", \"Qty\":500,\"Price\" : 40,\"Discount\": 25},\\n           \"11602284\": {\"Name\": \"COACH\", \"Mft. Date\": \"11-03-2021\", \"Qty\" : 400,\"Price\" : 30,\"Discount\": 20}, \\n           \"11602285\": {\"Name\": \"COBB\", \"Mft. Date\": \"13-03-2021\", \"Qty\":300,\"Price\" : 20,\"Discount\": 15},\\n           \"11602286\": {\"Name\": \"LOUIS PHILLIPE\", \"Mft. Date\": \"15-03-2021\",\"Qty\" : 200,\"Price\" : 18,\"Discount\": 10}, \\n           \"11602287\": {\"Name\": \"ALLEN SOLLY\", \"Mft. Date\": \"17-03-2021\", \"Qty\":190,\"Price\" : 16,\"Discount\": 50},\\n           \"11602288\": {\"Name\": \"NIKE\", \"Mft. Date\": \"19-03-2021\", \"Qty\" : 180,\"Price\" : 15,\"Discount\": 45}, \\n           \"11602289\": {\"Name\": \"ADIDAS\", \"Mft. Date\": \"21-03-2021\", \"Qty\":100,\"Price\" :10 ,\"Discount\": 40}}'"
      ]
     },
     "execution_count": 3,
     "metadata": {},
     "output_type": "execute_result"
    }
   ],
   "source": [
    "txt"
   ]
  },
  {
   "cell_type": "markdown",
   "id": "46e2045d",
   "metadata": {},
   "source": [
    "### Checking the type of txt file"
   ]
  },
  {
   "cell_type": "code",
   "execution_count": 4,
   "id": "2aeae0e7",
   "metadata": {},
   "outputs": [
    {
     "data": {
      "text/plain": [
       "str"
      ]
     },
     "execution_count": 4,
     "metadata": {},
     "output_type": "execute_result"
    }
   ],
   "source": [
    "type(txt)"
   ]
  },
  {
   "cell_type": "markdown",
   "id": "ee074c4d",
   "metadata": {},
   "source": [
    "### Importing json file and converting into a dictionary "
   ]
  },
  {
   "cell_type": "code",
   "execution_count": 5,
   "id": "2c825234",
   "metadata": {},
   "outputs": [
    {
     "data": {
      "text/plain": [
       "{'11602260': {'Name': 'LOUIS VUITTON',\n",
       "  'Mft. Date': '23-01-2021',\n",
       "  'Qty': 10000,\n",
       "  'Price': 250,\n",
       "  'Discount': 50},\n",
       " '11602261': {'Name': 'GUCCI',\n",
       "  'Mft. Date': '25-01-2021',\n",
       "  'Qty': 9500,\n",
       "  'Price': 240,\n",
       "  'Discount': 45},\n",
       " '11602262': {'Name': 'VERSACE',\n",
       "  'Mft. Date': '27-01-2021',\n",
       "  'Qty': 9000,\n",
       "  'Price': 230,\n",
       "  'Discount': 40},\n",
       " '11602263': {'Name': 'PRADA',\n",
       "  'Mft. Date': '29-01-2021',\n",
       "  'Qty': 8500,\n",
       "  'Price': 220,\n",
       "  'Discount': 35},\n",
       " '11602264': {'Name': 'GIVENCHI',\n",
       "  'Mft. Date': '31-01-2021',\n",
       "  'Qty': 8000,\n",
       "  'Price': 210,\n",
       "  'Discount': 30},\n",
       " '11602265': {'Name': 'ARMANI',\n",
       "  'Mft. Date': '03-02-2021',\n",
       "  'Qty': 7500,\n",
       "  'Price': 200,\n",
       "  'Discount': 25},\n",
       " '11602266': {'Name': 'FENDI',\n",
       "  'Mft. Date': '05-02-2021',\n",
       "  'Qty': 7000,\n",
       "  'Price': 190,\n",
       "  'Discount': 20},\n",
       " '11602267': {'Name': 'CHANEL',\n",
       "  'Mft. Date': '07-02-2021',\n",
       "  'Qty': 6500,\n",
       "  'Price': 180,\n",
       "  'Discount': 15},\n",
       " '11602268': {'Name': 'RALPH LAUREN',\n",
       "  'Mft. Date': '09-02-2021',\n",
       "  'Qty': 6000,\n",
       "  'Price': 170,\n",
       "  'Discount': 10},\n",
       " '11602269': {'Name': 'HUGO BOSS',\n",
       "  'Mft. Date': '11-02-2021',\n",
       "  'Qty': 5500,\n",
       "  'Price': 160,\n",
       "  'Discount': 50},\n",
       " '11602270': {'Name': 'HERMES',\n",
       "  'Mft. Date': '13-02-2021',\n",
       "  'Qty': 5000,\n",
       "  'Price': 160,\n",
       "  'Discount': 45},\n",
       " '11602271': {'Name': 'YVES SAINT LAURENT',\n",
       "  'Mft. Date': '15-02-2021',\n",
       "  'Qty': 4500,\n",
       "  'Price': 160,\n",
       "  'Discount': 40},\n",
       " '11602272': {'Name': 'DIOR',\n",
       "  'Mft. Date': '17-02-2021',\n",
       "  'Qty': 4000,\n",
       "  'Price': 150,\n",
       "  'Discount': 35},\n",
       " '11602273': {'Name': 'VALENTINO',\n",
       "  'Mft. Date': '19-02-2021',\n",
       "  'Qty': 3500,\n",
       "  'Price': 140,\n",
       "  'Discount': 30},\n",
       " '11602274': {'Name': 'SALVATORE FERRAGAMO',\n",
       "  'Mft. Date': '21-02-2021',\n",
       "  'Qty': 3000,\n",
       "  'Price': 130,\n",
       "  'Discount': 25},\n",
       " '11602275': {'Name': 'DOLCE & GABBANA',\n",
       "  'Mft. Date': '23-02-2021',\n",
       "  'Qty': 2500,\n",
       "  'Price': 120,\n",
       "  'Discount': 20},\n",
       " '11602276': {'Name': 'MARC JACOBS',\n",
       "  'Mft. Date': '25-02-2021',\n",
       "  'Qty': 2000,\n",
       "  'Price': 110,\n",
       "  'Discount': 15},\n",
       " '11602277': {'Name': 'GUESS',\n",
       "  'Mft. Date': '27-02-2021',\n",
       "  'Qty': 1500,\n",
       "  'Price': 100,\n",
       "  'Discount': 10},\n",
       " '11602278': {'Name': 'ABERCROMBIE & FITCH',\n",
       "  'Mft. Date': '29-02-2021',\n",
       "  'Qty': 1000,\n",
       "  'Price': 90,\n",
       "  'Discount': 50},\n",
       " '11602279': {'Name': 'TED BAKER',\n",
       "  'Mft. Date': '31-02-2021',\n",
       "  'Qty': 900,\n",
       "  'Price': 80,\n",
       "  'Discount': 45},\n",
       " '11602280': {'Name': 'CHRISTIAN LOUBOUTIN',\n",
       "  'Mft. Date': '3-03-2021',\n",
       "  'Qty': 800,\n",
       "  'Price': 70,\n",
       "  'Discount': 40},\n",
       " '11602281': {'Name': 'CHLOE',\n",
       "  'Mft. Date': '05-03-2021',\n",
       "  'Qty': 700,\n",
       "  'Price': 60,\n",
       "  'Discount': 35},\n",
       " '11602282': {'Name': 'ALEXANDER MCQUEEN',\n",
       "  'Mft. Date': '07-03-2021',\n",
       "  'Qty': 600,\n",
       "  'Price': 50,\n",
       "  'Discount': 30},\n",
       " '11602283': {'Name': 'BURBERRY',\n",
       "  'Mft. Date': '09-03-2021',\n",
       "  'Qty': 500,\n",
       "  'Price': 40,\n",
       "  'Discount': 25},\n",
       " '11602284': {'Name': 'COACH',\n",
       "  'Mft. Date': '11-03-2021',\n",
       "  'Qty': 400,\n",
       "  'Price': 30,\n",
       "  'Discount': 20},\n",
       " '11602285': {'Name': 'COBB',\n",
       "  'Mft. Date': '13-03-2021',\n",
       "  'Qty': 300,\n",
       "  'Price': 20,\n",
       "  'Discount': 15},\n",
       " '11602286': {'Name': 'LOUIS PHILLIPE',\n",
       "  'Mft. Date': '15-03-2021',\n",
       "  'Qty': 200,\n",
       "  'Price': 18,\n",
       "  'Discount': 10},\n",
       " '11602287': {'Name': 'ALLEN SOLLY',\n",
       "  'Mft. Date': '17-03-2021',\n",
       "  'Qty': 190,\n",
       "  'Price': 16,\n",
       "  'Discount': 50},\n",
       " '11602288': {'Name': 'NIKE',\n",
       "  'Mft. Date': '19-03-2021',\n",
       "  'Qty': 180,\n",
       "  'Price': 15,\n",
       "  'Discount': 45},\n",
       " '11602289': {'Name': 'ADIDAS',\n",
       "  'Mft. Date': '21-03-2021',\n",
       "  'Qty': 100,\n",
       "  'Price': 10,\n",
       "  'Discount': 40}}"
      ]
     },
     "execution_count": 5,
     "metadata": {},
     "output_type": "execute_result"
    }
   ],
   "source": [
    "import json\n",
    "record = json.loads(txt)\n",
    "record"
   ]
  },
  {
   "cell_type": "markdown",
   "id": "99ae5ed5",
   "metadata": {},
   "source": [
    "### Checking the type of converted record.json file "
   ]
  },
  {
   "cell_type": "code",
   "execution_count": 6,
   "id": "4e1ccf12",
   "metadata": {},
   "outputs": [
    {
     "data": {
      "text/plain": [
       "dict"
      ]
     },
     "execution_count": 6,
     "metadata": {},
     "output_type": "execute_result"
    }
   ],
   "source": [
    "type(record)"
   ]
  },
  {
   "cell_type": "markdown",
   "id": "826a4f03",
   "metadata": {},
   "source": [
    "### Fetching the data  from record on the basis of id"
   ]
  },
  {
   "cell_type": "code",
   "execution_count": 7,
   "id": "c934d2dd",
   "metadata": {},
   "outputs": [
    {
     "name": "stdout",
     "output_type": "stream",
     "text": [
      "Enter name of the customer :Sidharth S Unnithan\n",
      "Enter the id : 11602260\n",
      "11602260 = {'Name': 'LOUIS VUITTON', 'Mft. Date': '23-01-2021', 'Qty': 10000, 'Price': 250, 'Discount': 50}\n"
     ]
    }
   ],
   "source": [
    "name = input(\"Enter name of the customer :\")\n",
    "id = input(\"Enter the id : \")\n",
    "if id in record :\n",
    "        print(id,\"=\",record[id])\n",
    "else:\n",
    "        print(\"\\t\\t\\t\\t\\tInvalid input\")\n"
   ]
  },
  {
   "cell_type": "markdown",
   "id": "09d972c9",
   "metadata": {},
   "source": [
    "### Producing the bill for the purchase "
   ]
  },
  {
   "cell_type": "code",
   "execution_count": 8,
   "id": "e7c30f80",
   "metadata": {},
   "outputs": [
    {
     "name": "stdout",
     "output_type": "stream",
     "text": [
      "************************************* WARDROBE INVENTORY MANAGEMENT SYSTEM USING JSON *****************************************\n",
      "\n",
      "\t\t\t\t\tEnter name of the customer :Sidharth S Unnithan\n",
      "\t\t\t\t\tEnter the id : 11602260\n",
      "\t\t\t\t\tEnter the quantity : 90\n",
      "\n",
      "\t\t\t\t\tName of the Customer is : Sidharth S Unnithan\n",
      "\t\t\t\t\tId of the product is:  11602260\n",
      "\t\t\t\t\tName of the product :  LOUIS VUITTON\n",
      "\t\t\t\t\tQuantity of product to be bought : 90\n",
      "\t\t\t\t\tActual Price of the Product :  22500\n",
      "\t\t\t\t\tDiscount available on product :  50\n",
      "\t\t\t\t\tDiscounted price of product :  11250\n",
      "\n",
      "\n",
      "*******************************************************************************************************************************\n"
     ]
    }
   ],
   "source": [
    "print(\"*\" * 37 ,\"WARDROBE INVENTORY MANAGEMENT SYSTEM USING JSON\",\"*\" * 41)\n",
    "name = input(\"\\n\\t\\t\\t\\t\\tEnter name of the customer :\")\n",
    "id = input(\"\\t\\t\\t\\t\\tEnter the id : \")\n",
    "qty = int(input(\"\\t\\t\\t\\t\\tEnter the quantity : \"))\n",
    "if  id in record:\n",
    "    if qty > 1:\n",
    "        print(\"\\n\\t\\t\\t\\t\\tName of the Customer is :\",name)\n",
    "        print(\"\\t\\t\\t\\t\\tId of the product is: \", id)\n",
    "        print(\"\\t\\t\\t\\t\\tName of the product : \", record[id]['Name'])\n",
    "        print(\"\\t\\t\\t\\t\\tQuantity of product to be bought :\", qty)\n",
    "        print(\"\\t\\t\\t\\t\\tActual Price of the Product : \" , record[id]['Price']*qty)\n",
    "        print(\"\\t\\t\\t\\t\\tDiscount available on product : \", record[id]['Discount'])\n",
    "        new_price =  (record[id]['Price']) * ((record[id]['Discount'])/100)  * qty\n",
    "        print(\"\\t\\t\\t\\t\\tDiscounted price of product : \", int(new_price))\n",
    "    elif qty==1:\n",
    "        print(\"\\n\\t\\t\\t\\t\\tName of the Customer is :\",name)\n",
    "        print(\"\\t\\t\\t\\t\\tId of the product is: \", id)\n",
    "        print(\"\\t\\t\\t\\t\\tName of the product : \", record[id]['Name'])\n",
    "        print(\"\\t\\t\\t\\t\\tQuantity of product to be bought :\", qty)\n",
    "        print(\"\\t\\t\\t\\t\\tActual Price of the Product : \" , record[id]['Price']*qty)\n",
    "        print(\"\\t\\t\\t\\t\\tDiscount available on product : \", record[id]['Discount'])\n",
    "        new_price =  (record[id]['Price']) * ((record[id]['Discount'])/100)  * qty\n",
    "        print(\"\\t\\t\\t\\t\\tDiscounted price of product : \", int(new_price))\n",
    "    elif qty ==0:\n",
    "        print(\"\\n\\t\\t\\t\\t\\tName of the Customer is :\",name)\n",
    "        print(\"\\t\\t\\t\\t\\tId of the product is: \", id)\n",
    "        print(\"\\t\\t\\t\\t\\tName of the product : \", record[id]['Name'])\n",
    "        print(\"\\t\\t\\t\\t\\tQuantity of product to be bought :\", qty)\n",
    "        print(\"\\t\\t\\t\\t\\tActual Price of the Product : \" , record[id]['Price']*qty)\n",
    "        print(\"\\t\\t\\t\\t\\tDiscount available on product : \", record[id]['Discount'])\n",
    "        new_price =  (record[id]['Price']) * ((record[id]['Discount'])/100)  * qty\n",
    "        print(\"\\t\\t\\t\\t\\tDiscounted price of product : \", int(new_price))\n",
    "    else: #if the input for quantity is negative \n",
    "        print(\"\\t\\t\\t\\t\\tInavlid Input as the quantity is in negative format \")\n",
    "else:\n",
    "    print(\"Invalid Input\")\n",
    "print(\"\\n\")\n",
    "print(\"*\" * 127)\n",
    "        \n",
    "    \n",
    "\n"
   ]
  },
  {
   "cell_type": "markdown",
   "id": "6ab32142",
   "metadata": {},
   "source": [
    "### Updating the dictionary "
   ]
  },
  {
   "cell_type": "code",
   "execution_count": 9,
   "id": "3c0b9487",
   "metadata": {},
   "outputs": [
    {
     "data": {
      "text/plain": [
       "{'11602260': {'Name': 'LOUIS VUITTON',\n",
       "  'Mft. Date': '23-01-2021',\n",
       "  'Qty': 9910,\n",
       "  'Price': 250,\n",
       "  'Discount': 50},\n",
       " '11602261': {'Name': 'GUCCI',\n",
       "  'Mft. Date': '25-01-2021',\n",
       "  'Qty': 9500,\n",
       "  'Price': 240,\n",
       "  'Discount': 45},\n",
       " '11602262': {'Name': 'VERSACE',\n",
       "  'Mft. Date': '27-01-2021',\n",
       "  'Qty': 9000,\n",
       "  'Price': 230,\n",
       "  'Discount': 40},\n",
       " '11602263': {'Name': 'PRADA',\n",
       "  'Mft. Date': '29-01-2021',\n",
       "  'Qty': 8500,\n",
       "  'Price': 220,\n",
       "  'Discount': 35},\n",
       " '11602264': {'Name': 'GIVENCHI',\n",
       "  'Mft. Date': '31-01-2021',\n",
       "  'Qty': 8000,\n",
       "  'Price': 210,\n",
       "  'Discount': 30},\n",
       " '11602265': {'Name': 'ARMANI',\n",
       "  'Mft. Date': '03-02-2021',\n",
       "  'Qty': 7500,\n",
       "  'Price': 200,\n",
       "  'Discount': 25},\n",
       " '11602266': {'Name': 'FENDI',\n",
       "  'Mft. Date': '05-02-2021',\n",
       "  'Qty': 7000,\n",
       "  'Price': 190,\n",
       "  'Discount': 20},\n",
       " '11602267': {'Name': 'CHANEL',\n",
       "  'Mft. Date': '07-02-2021',\n",
       "  'Qty': 6500,\n",
       "  'Price': 180,\n",
       "  'Discount': 15},\n",
       " '11602268': {'Name': 'RALPH LAUREN',\n",
       "  'Mft. Date': '09-02-2021',\n",
       "  'Qty': 6000,\n",
       "  'Price': 170,\n",
       "  'Discount': 10},\n",
       " '11602269': {'Name': 'HUGO BOSS',\n",
       "  'Mft. Date': '11-02-2021',\n",
       "  'Qty': 5500,\n",
       "  'Price': 160,\n",
       "  'Discount': 50},\n",
       " '11602270': {'Name': 'HERMES',\n",
       "  'Mft. Date': '13-02-2021',\n",
       "  'Qty': 5000,\n",
       "  'Price': 160,\n",
       "  'Discount': 45},\n",
       " '11602271': {'Name': 'YVES SAINT LAURENT',\n",
       "  'Mft. Date': '15-02-2021',\n",
       "  'Qty': 4500,\n",
       "  'Price': 160,\n",
       "  'Discount': 40},\n",
       " '11602272': {'Name': 'DIOR',\n",
       "  'Mft. Date': '17-02-2021',\n",
       "  'Qty': 4000,\n",
       "  'Price': 150,\n",
       "  'Discount': 35},\n",
       " '11602273': {'Name': 'VALENTINO',\n",
       "  'Mft. Date': '19-02-2021',\n",
       "  'Qty': 3500,\n",
       "  'Price': 140,\n",
       "  'Discount': 30},\n",
       " '11602274': {'Name': 'SALVATORE FERRAGAMO',\n",
       "  'Mft. Date': '21-02-2021',\n",
       "  'Qty': 3000,\n",
       "  'Price': 130,\n",
       "  'Discount': 25},\n",
       " '11602275': {'Name': 'DOLCE & GABBANA',\n",
       "  'Mft. Date': '23-02-2021',\n",
       "  'Qty': 2500,\n",
       "  'Price': 120,\n",
       "  'Discount': 20},\n",
       " '11602276': {'Name': 'MARC JACOBS',\n",
       "  'Mft. Date': '25-02-2021',\n",
       "  'Qty': 2000,\n",
       "  'Price': 110,\n",
       "  'Discount': 15},\n",
       " '11602277': {'Name': 'GUESS',\n",
       "  'Mft. Date': '27-02-2021',\n",
       "  'Qty': 1500,\n",
       "  'Price': 100,\n",
       "  'Discount': 10},\n",
       " '11602278': {'Name': 'ABERCROMBIE & FITCH',\n",
       "  'Mft. Date': '29-02-2021',\n",
       "  'Qty': 1000,\n",
       "  'Price': 90,\n",
       "  'Discount': 50},\n",
       " '11602279': {'Name': 'TED BAKER',\n",
       "  'Mft. Date': '31-02-2021',\n",
       "  'Qty': 900,\n",
       "  'Price': 80,\n",
       "  'Discount': 45},\n",
       " '11602280': {'Name': 'CHRISTIAN LOUBOUTIN',\n",
       "  'Mft. Date': '3-03-2021',\n",
       "  'Qty': 800,\n",
       "  'Price': 70,\n",
       "  'Discount': 40},\n",
       " '11602281': {'Name': 'CHLOE',\n",
       "  'Mft. Date': '05-03-2021',\n",
       "  'Qty': 700,\n",
       "  'Price': 60,\n",
       "  'Discount': 35},\n",
       " '11602282': {'Name': 'ALEXANDER MCQUEEN',\n",
       "  'Mft. Date': '07-03-2021',\n",
       "  'Qty': 600,\n",
       "  'Price': 50,\n",
       "  'Discount': 30},\n",
       " '11602283': {'Name': 'BURBERRY',\n",
       "  'Mft. Date': '09-03-2021',\n",
       "  'Qty': 500,\n",
       "  'Price': 40,\n",
       "  'Discount': 25},\n",
       " '11602284': {'Name': 'COACH',\n",
       "  'Mft. Date': '11-03-2021',\n",
       "  'Qty': 400,\n",
       "  'Price': 30,\n",
       "  'Discount': 20},\n",
       " '11602285': {'Name': 'COBB',\n",
       "  'Mft. Date': '13-03-2021',\n",
       "  'Qty': 300,\n",
       "  'Price': 20,\n",
       "  'Discount': 15},\n",
       " '11602286': {'Name': 'LOUIS PHILLIPE',\n",
       "  'Mft. Date': '15-03-2021',\n",
       "  'Qty': 200,\n",
       "  'Price': 18,\n",
       "  'Discount': 10},\n",
       " '11602287': {'Name': 'ALLEN SOLLY',\n",
       "  'Mft. Date': '17-03-2021',\n",
       "  'Qty': 190,\n",
       "  'Price': 16,\n",
       "  'Discount': 50},\n",
       " '11602288': {'Name': 'NIKE',\n",
       "  'Mft. Date': '19-03-2021',\n",
       "  'Qty': 180,\n",
       "  'Price': 15,\n",
       "  'Discount': 45},\n",
       " '11602289': {'Name': 'ADIDAS',\n",
       "  'Mft. Date': '21-03-2021',\n",
       "  'Qty': 100,\n",
       "  'Price': 10,\n",
       "  'Discount': 40}}"
      ]
     },
     "execution_count": 9,
     "metadata": {},
     "output_type": "execute_result"
    }
   ],
   "source": [
    "record[id]['Qty'] = record[id]['Qty'] - qty\n",
    "record"
   ]
  },
  {
   "cell_type": "markdown",
   "id": "1fa5f0f3",
   "metadata": {},
   "source": [
    "### Fetching data of record on the basis of discount"
   ]
  },
  {
   "cell_type": "code",
   "execution_count": 10,
   "id": "06642187",
   "metadata": {},
   "outputs": [
    {
     "name": "stdout",
     "output_type": "stream",
     "text": [
      "Enter the id : 11602261\n",
      "Enter the discount : 45\n",
      "Name of the product is :  GUCCI\n",
      "Actual price  of the product is :  240\n",
      "Discounted price  of the product is :  108\n"
     ]
    }
   ],
   "source": [
    "id = input(\"Enter the id : \")\n",
    "disc = int(input(\"Enter the discount : \"))\n",
    "if  id in record:\n",
    "    if disc == record[id]['Discount']:\n",
    "        print(\"Name of the product is : \",record[id]['Name'])\n",
    "        print(\"Actual price  of the product is : \",record[id]['Price'])\n",
    "        disc_price = (record[id]['Price']) * ((record[id]['Discount'])/100)\n",
    "        print(\"Discounted price  of the product is : \",int(disc_price))\n",
    "    elif disc > record[id]['Discount']:\n",
    "        print(\"Name of the product is : \", record[id]['Name'])\n",
    "        print(\"Actual price of the product is : \", record[id]['Price'])\n",
    "        disc_price = ((record[id]['Price']) * ((record[id]['Discount'])/100)) + disc \n",
    "        print(\"Discounted price of the product is : \", int(disc_price))\n",
    "    elif disc < record[id]['Discount'] and disc >= 0:\n",
    "        print(\"Name of the product is : \", record[id]['Name'])\n",
    "        print(\"Actual price of the product is : \", record[id]['Price'])\n",
    "        disc_price = ((record[id]['Price']) * ((record[id]['Discount'])/100)) - disc\n",
    "        print(\"Discounted price of the prodcut is : \", int(disc_price))\n",
    "    else:       #if discount < 0\n",
    "        print(\"Price can't be generated for a negative value of discount\")\n",
    "else:\n",
    "    print(\"Invalid Input\")\n",
    " "
   ]
  },
  {
   "cell_type": "markdown",
   "id": "1a7c8034",
   "metadata": {},
   "source": [
    "### Updating the inventory  "
   ]
  },
  {
   "cell_type": "code",
   "execution_count": 11,
   "id": "3694231a",
   "metadata": {},
   "outputs": [],
   "source": [
    "js = json.dumps(record)\n",
    "fd = open(\"record.json\",\"w\")\n",
    "fd.write(js)\n",
    "fd.close()"
   ]
  },
  {
   "cell_type": "code",
   "execution_count": null,
   "id": "46b28434",
   "metadata": {},
   "outputs": [],
   "source": []
  },
  {
   "cell_type": "code",
   "execution_count": null,
   "id": "22337fdc",
   "metadata": {},
   "outputs": [],
   "source": []
  }
 ],
 "metadata": {
  "kernelspec": {
   "display_name": "Python 3",
   "language": "python",
   "name": "python3"
  },
  "language_info": {
   "codemirror_mode": {
    "name": "ipython",
    "version": 3
   },
   "file_extension": ".py",
   "mimetype": "text/x-python",
   "name": "python",
   "nbconvert_exporter": "python",
   "pygments_lexer": "ipython3",
   "version": "3.8.8"
  }
 },
 "nbformat": 4,
 "nbformat_minor": 5
}
